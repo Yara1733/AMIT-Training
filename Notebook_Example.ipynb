{
 "cells": [
  {
   "cell_type": "markdown",
   "id": "c5835278",
   "metadata": {},
   "source": [
    "# function to see the number of magic methods\n"
   ]
  },
  {
   "cell_type": "code",
   "execution_count": 33,
   "id": "9acc291c",
   "metadata": {},
   "outputs": [
    {
     "data": {
      "text/plain": [
       "['__abs__',\n",
       " '__add__',\n",
       " '__and__',\n",
       " '__bool__',\n",
       " '__ceil__',\n",
       " '__class__',\n",
       " '__delattr__',\n",
       " '__dir__',\n",
       " '__divmod__',\n",
       " '__doc__',\n",
       " '__eq__',\n",
       " '__float__',\n",
       " '__floor__',\n",
       " '__floordiv__',\n",
       " '__format__',\n",
       " '__ge__',\n",
       " '__getattribute__',\n",
       " '__getnewargs__',\n",
       " '__gt__',\n",
       " '__hash__',\n",
       " '__index__',\n",
       " '__init__',\n",
       " '__init_subclass__',\n",
       " '__int__',\n",
       " '__invert__',\n",
       " '__le__',\n",
       " '__lshift__',\n",
       " '__lt__',\n",
       " '__mod__',\n",
       " '__mul__',\n",
       " '__ne__',\n",
       " '__neg__',\n",
       " '__new__',\n",
       " '__or__',\n",
       " '__pos__',\n",
       " '__pow__',\n",
       " '__radd__',\n",
       " '__rand__',\n",
       " '__rdivmod__',\n",
       " '__reduce__',\n",
       " '__reduce_ex__',\n",
       " '__repr__',\n",
       " '__rfloordiv__',\n",
       " '__rlshift__',\n",
       " '__rmod__',\n",
       " '__rmul__',\n",
       " '__ror__',\n",
       " '__round__',\n",
       " '__rpow__',\n",
       " '__rrshift__',\n",
       " '__rshift__',\n",
       " '__rsub__',\n",
       " '__rtruediv__',\n",
       " '__rxor__',\n",
       " '__setattr__',\n",
       " '__sizeof__',\n",
       " '__str__',\n",
       " '__sub__',\n",
       " '__subclasshook__',\n",
       " '__truediv__',\n",
       " '__trunc__',\n",
       " '__xor__',\n",
       " 'as_integer_ratio',\n",
       " 'bit_length',\n",
       " 'conjugate',\n",
       " 'denominator',\n",
       " 'from_bytes',\n",
       " 'imag',\n",
       " 'numerator',\n",
       " 'real',\n",
       " 'to_bytes']"
      ]
     },
     "execution_count": 33,
     "metadata": {},
     "output_type": "execute_result"
    }
   ],
   "source": [
    "dir(int)"
   ]
  },
  {
   "cell_type": "markdown",
   "id": "d6a61f6a",
   "metadata": {},
   "source": [
    "# Add two numbers "
   ]
  },
  {
   "cell_type": "code",
   "execution_count": 2,
   "id": "7cab8cbf",
   "metadata": {},
   "outputs": [
    {
     "data": {
      "text/plain": [
       "15"
      ]
     },
     "execution_count": 2,
     "metadata": {},
     "output_type": "execute_result"
    }
   ],
   "source": [
    "num=10\n",
    "num.__add__(5) #function add two number"
   ]
  },
  {
   "cell_type": "markdown",
   "id": "2a488645",
   "metadata": {},
   "source": [
    "# __new__() method:"
   ]
  },
  {
   "cell_type": "code",
   "execution_count": 47,
   "id": "53dbf2a1",
   "metadata": {},
   "outputs": [],
   "source": [
    "class Employee():\n",
    "    def __new__(c): \n",
    "        print (\"__new__ magic method is called\")\n",
    "        instra = object.__new__(c)# create new object\n",
    "        return instra\n",
    "    def __init__(self):\n",
    "        self.name='kia'\n",
    "        print (\"__init__ magic method is called\",self.name)\n",
    "        \n"
   ]
  },
  {
   "cell_type": "code",
   "execution_count": 48,
   "id": "81863907",
   "metadata": {},
   "outputs": [
    {
     "name": "stdout",
     "output_type": "stream",
     "text": [
      "__new__ magic method is called\n",
      "__init__ magic method is called kia\n"
     ]
    }
   ],
   "source": [
    "x=Employee()\n"
   ]
  },
  {
   "cell_type": "markdown",
   "id": "5ddf62fe",
   "metadata": {},
   "source": [
    "# Abstraction classes "
   ]
  },
  {
   "cell_type": "code",
   "execution_count": 49,
   "id": "bdbbdba7",
   "metadata": {},
   "outputs": [
    {
     "name": "stdout",
     "output_type": "stream",
     "text": [
      "The mileage is 30kmph\n",
      "The mileage is 28kmph \n",
      "The mileage is 25kmph \n",
      "The mileage is 50kmph \n"
     ]
    }
   ],
   "source": [
    "# Python program demonstrate  \n",
    "# abstract base class work   \n",
    "from abc import ABC, abstractmethod   #abc module to create the abstract base class \n",
    "class vehcail(ABC):   \n",
    "    def mileage(self):   \n",
    "        pass  \n",
    "  \n",
    "class Tesla(vehcail):  #create class inherited from base class \n",
    "    def mileage(self):   #defined an abstract method named mileage()\n",
    "        print(\"The mileage is 30kmph\")   \n",
    "class Suzuki(vehcail):   #create class inherited from base class \n",
    "    def mileage(self):   \n",
    "        print(\"The mileage is 25kmph \")   \n",
    "class Duster(vehcail):   #create class inherited from base class \n",
    "    def mileage(self):   \n",
    "        print(\"The mileage is 50kmph \")   \n",
    "  \n",
    "class Renault(vehcail):   #create class inherited from base class \n",
    "    def mileage(self):   \n",
    "        print(\"The mileage is 28kmph \")   \n",
    "          \n",
    "# Driver code   \n",
    "t= Tesla ()   \n",
    "t.mileage()   \n",
    "  \n",
    "r = Renault()   \n",
    "r.mileage()   \n",
    "  \n",
    "s = Suzuki()   \n",
    "s.mileage()   \n",
    "d = Duster()   \n",
    "d.mileage()  "
   ]
  },
  {
   "cell_type": "code",
   "execution_count": 29,
   "id": "e234b560",
   "metadata": {},
   "outputs": [],
   "source": [
    "# Python program to define   \n",
    "# abstract class  \n",
    "  \n",
    "from abc import ABC  \n",
    "  \n",
    "class Polygon(ABC):   \n",
    "  \n",
    "   # abstract method   \n",
    "    def sides(self):   \n",
    "        pass  \n",
    "  \n",
    "class Triangle(Polygon):   #create class inherited from base class \n",
    "  \n",
    "     \n",
    "    def sides(self):   #created the object of the subclasses and invoke the sides()\n",
    "        print(\"Triangle has 3 sides\")   \n",
    "  \n",
    "class Pentagon(Polygon):   \n",
    "  \n",
    "     \n",
    "    def sides(self):   \n",
    "        print(\"Pentagon has 5 sides\")   \n",
    "  \n",
    "class Hexagon(Polygon):\n",
    "    def sides(self):   \n",
    "        print(\"Hexagon has 6 sides\")   \n",
    "  \n",
    "class square(Polygon):   \n",
    "  \n",
    "    def sides(self):   \n",
    "        print(\"I have 4 sides\")   \n",
    "  \n",
    "\n"
   ]
  },
  {
   "cell_type": "code",
   "execution_count": 32,
   "id": "191ef953",
   "metadata": {},
   "outputs": [
    {
     "name": "stdout",
     "output_type": "stream",
     "text": [
      "Triangle has 3 sides\n",
      "I have 4 sides\n",
      "Pentagon has 5 sides\n",
      "Hexagon has 6 sides\n"
     ]
    }
   ],
   "source": [
    "t = Triangle()   \n",
    "t.sides()   \n",
    "  \n",
    "s = square()   \n",
    "s.sides()   \n",
    "  \n",
    "p = Pentagon()   \n",
    "p.sides()   \n",
    "  \n",
    "c = Hexagon()   \n",
    "c.sides()   "
   ]
  },
  {
   "cell_type": "markdown",
   "id": "c5e20a8c",
   "metadata": {},
   "source": [
    "# Encapsulation\n",
    "# Protected members"
   ]
  },
  {
   "cell_type": "code",
   "execution_count": 17,
   "id": "a566ff1d",
   "metadata": {},
   "outputs": [
    {
     "name": "stdout",
     "output_type": "stream",
     "text": [
      "Calling protected member of base class:  2\n",
      "Calling modified protected member outside class:  3\n",
      "Accessing protected member of obj1:  3\n",
      "Accessing protected member of obj2:  2\n"
     ]
    }
   ],
   "source": [
    "# Python program to\n",
    "# demonstrate protected members\n",
    " \n",
    "# Creating a base class\n",
    "class Base:\n",
    "    def __init__(self):\n",
    " \n",
    "        # Protected member\n",
    "        self._a = 2\n",
    " \n",
    "# Creating a derived class\n",
    "class Derived(Base):\n",
    "    def __init__(self):\n",
    " \n",
    "        # Calling constructor of\n",
    "        # Base class\n",
    "        Base.__init__(self)\n",
    "        print(\"Calling protected member of base class: \",\n",
    "              self._a)\n",
    " \n",
    "        # Modify the protected variable:\n",
    "        self._a = 3\n",
    "        print(\"Calling modified protected member outside class: \",\n",
    "              self._a)\n",
    "obj1 = Derived()\n",
    " \n",
    "obj2 = Base()\n",
    " \n",
    "# Calling protected member\n",
    "# Can be accessed but should not be done due to convention\n",
    "print(\"Accessing protected member of obj1: \", obj1._a)\n",
    " \n",
    "# Accessing the protected variable outside\n",
    "print(\"Accessing protected member of obj2: \", obj2._a)\n"
   ]
  },
  {
   "cell_type": "markdown",
   "id": "75339371",
   "metadata": {},
   "source": [
    "# Private members:"
   ]
  },
  {
   "cell_type": "code",
   "execution_count": 18,
   "id": "c1f7e964",
   "metadata": {},
   "outputs": [
    {
     "name": "stdout",
     "output_type": "stream",
     "text": [
      "GeeksforGeeks\n"
     ]
    }
   ],
   "source": [
    "# Python program to\n",
    "# demonstrate private members\n",
    " \n",
    "# Creating a Base class\n",
    " \n",
    " \n",
    "class Base:\n",
    "    def __init__(self):\n",
    "        self.a = \"GeeksforGeeks\"\n",
    "        self.__c = \"GeeksforGeeks\"\n",
    " \n",
    "# Creating a derived class\n",
    "class Derived(Base):\n",
    "    def __init__(self):\n",
    " \n",
    "        # Calling constructor of\n",
    "        # Base class\n",
    "        Base.__init__(self)\n",
    "        print(\"Calling private member of base class: \")\n",
    "        print(self.__c)\n",
    " \n",
    " \n",
    "# Driver code\n",
    "obj1 = Base()\n",
    "print(obj1.a)\n"
   ]
  },
  {
   "cell_type": "markdown",
   "id": "286b1694",
   "metadata": {},
   "source": [
    "# *args and **kwargs in Python\n",
    "# *args:"
   ]
  },
  {
   "cell_type": "code",
   "execution_count": 50,
   "id": "6d6581ab",
   "metadata": {},
   "outputs": [
    {
     "name": "stdout",
     "output_type": "stream",
     "text": [
      "Hello\n",
      "Welcome\n",
      "to\n",
      "GeeksforGeeks\n"
     ]
    }
   ],
   "source": [
    "def myFun(*argv):\n",
    "    for arg in argv:# *args for a variable number of arguments\n",
    "        print(arg) # to print variables\n",
    "  \n",
    "  \n",
    "myFun('Hello', 'Welcome', 'to', 'GeeksforGeeks')"
   ]
  },
  {
   "cell_type": "code",
   "execution_count": 20,
   "id": "81486132",
   "metadata": {},
   "outputs": [
    {
     "name": "stdout",
     "output_type": "stream",
     "text": [
      "First argument : Hello\n",
      "Next argument through *argv : Welcome\n",
      "Next argument through *argv : to\n",
      "Next argument through *argv : GeeksforGeeks\n"
     ]
    }
   ],
   "source": [
    "def myFun(arg1, *argv):\n",
    "    print(\"First argument :\", arg1)# to print first variable \n",
    "    for arg in argv:\n",
    "        print(\"Next argument through *argv :\", arg)#  to print variables\n",
    "  \n",
    "  \n",
    "myFun('Hello', 'Welcome', 'to', 'GeeksforGeeks')"
   ]
  },
  {
   "cell_type": "markdown",
   "id": "004e6d76",
   "metadata": {},
   "source": [
    "# **kwargs"
   ]
  },
  {
   "cell_type": "code",
   "execution_count": 21,
   "id": "ef1e046b",
   "metadata": {},
   "outputs": [
    {
     "name": "stdout",
     "output_type": "stream",
     "text": [
      "first == Geeks\n",
      "mid == for\n",
      "last == Geeks\n"
     ]
    }
   ],
   "source": [
    "\n",
    "def myFun(**kwargs):\n",
    "    for key, value in kwargs.items():# *kwargs for a variable number of keyword arguments.\n",
    "        print(\"%s == %s\" % (key, value))#  to print  keyword and variables\n",
    "  \n",
    "  \n",
    "# Driver code\n",
    "myFun(first='Geeks', mid='for', last='Geeks')"
   ]
  },
  {
   "cell_type": "code",
   "execution_count": 51,
   "id": "d6ab2a08",
   "metadata": {},
   "outputs": [
    {
     "name": "stdout",
     "output_type": "stream",
     "text": [
      "first == Geeks\n",
      "mid == for\n",
      "last == Geeks\n"
     ]
    }
   ],
   "source": [
    "def myFun(arg1, **kwargs):\n",
    "    for key, value in kwargs.items():# *kwargs for a variable number of keyword arguments.\n",
    "        print(\"%s == %s\" % (key, value))#  to print  keyword and variables\n",
    "  \n",
    "  \n",
    "# Driver code\n",
    "myFun(\"Hi\", first='Geeks', mid='for', last='Geeks')# don't print hi becouse not have keyword"
   ]
  },
  {
   "cell_type": "markdown",
   "id": "12cf5c94",
   "metadata": {},
   "source": [
    "# *args and **kwargs to call a function"
   ]
  },
  {
   "cell_type": "code",
   "execution_count": 52,
   "id": "06250a9b",
   "metadata": {},
   "outputs": [
    {
     "name": "stdout",
     "output_type": "stream",
     "text": [
      "arg1: Geeks\n",
      "arg2: for\n",
      "arg3: Geeks\n",
      "None\n",
      "arg1: Geeks\n",
      "arg2: for\n",
      "arg3: Geeks\n"
     ]
    }
   ],
   "source": [
    "\n",
    "def myFun(arg1, arg2, arg3):\n",
    "    print(\"arg1:\", arg1)\n",
    "    print(\"arg2:\", arg2)\n",
    "    print(\"arg3:\", arg3)\n",
    "  \n",
    "  \n",
    "# Now we can use *args or **kwargs to\n",
    "# pass arguments to this function :\n",
    "args = (\"Geeks\", \"for\", \"Geeks\")\n",
    "print(myFun(*args))\n",
    "  \n",
    "kwargs = {\"arg1\": \"Geeks\", \"arg2\": \"for\", \"arg3\": \"Geeks\"}\n",
    "myFun(**kwargs)"
   ]
  },
  {
   "cell_type": "code",
   "execution_count": null,
   "id": "9a250ec6",
   "metadata": {},
   "outputs": [],
   "source": []
  }
 ],
 "metadata": {
  "kernelspec": {
   "display_name": "Python 3 (ipykernel)",
   "language": "python",
   "name": "python3"
  },
  "language_info": {
   "codemirror_mode": {
    "name": "ipython",
    "version": 3
   },
   "file_extension": ".py",
   "mimetype": "text/x-python",
   "name": "python",
   "nbconvert_exporter": "python",
   "pygments_lexer": "ipython3",
   "version": "3.9.12"
  }
 },
 "nbformat": 4,
 "nbformat_minor": 5
}
