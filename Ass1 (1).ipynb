{
 "cells": [
  {
   "cell_type": "code",
   "execution_count": 3,
   "id": "12f2d9b5",
   "metadata": {},
   "outputs": [
    {
     "name": "stdout",
     "output_type": "stream",
     "text": [
      "enter 2 number5 6\n"
     ]
    }
   ],
   "source": [
    "\"\"\"\n",
    "Function to enter two numbers of type int and use split to differentiate between one number and the other with a space\n",
    "\"\"\"\n",
    "x, y=map(int, input('enter 2 number').split()) # Enter two numbers of type int"
   ]
  },
  {
   "cell_type": "code",
   "execution_count": 2,
   "id": "14748ef0",
   "metadata": {},
   "outputs": [
    {
     "name": "stdout",
     "output_type": "stream",
     "text": [
      "11\n"
     ]
    }
   ],
   "source": [
    "print (y+x) # Show Output "
   ]
  },
  {
   "cell_type": "code",
   "execution_count": null,
   "id": "059b7bce",
   "metadata": {},
   "outputs": [],
   "source": []
  }
 ],
 "metadata": {
  "kernelspec": {
   "display_name": "Python 3 (ipykernel)",
   "language": "python",
   "name": "python3"
  },
  "language_info": {
   "codemirror_mode": {
    "name": "ipython",
    "version": 3
   },
   "file_extension": ".py",
   "mimetype": "text/x-python",
   "name": "python",
   "nbconvert_exporter": "python",
   "pygments_lexer": "ipython3",
   "version": "3.9.12"
  }
 },
 "nbformat": 4,
 "nbformat_minor": 5
}
