{
 "cells": [
  {
   "cell_type": "markdown",
   "metadata": {
    "collapsed": true
   },
   "source": [
    "# QUIZ\n",
    "Let's test your knowledge!"
   ]
  },
  {
   "cell_type": "markdown",
   "metadata": {},
   "source": [
    "_____\n",
    "**Use <code>for</code>, .split(), and <code>if</code> to create a Statement that will print out words that start with 's':**"
   ]
  },
  {
   "cell_type": "code",
   "execution_count": 99,
   "metadata": {},
   "outputs": [],
   "source": [
    "st = 'Print only the words that start with s in this sentence'"
   ]
  },
  {
   "cell_type": "code",
   "execution_count": 101,
   "metadata": {},
   "outputs": [
    {
     "name": "stdout",
     "output_type": "stream",
     "text": [
      "start\n",
      "s\n",
      "sentence\n"
     ]
    }
   ],
   "source": [
    "#Code here\n",
    "\n",
    "for s in st.split(): #for loop in st and spliting the st\n",
    "    \n",
    "    if s[0] == 's': #cheeck each word start with 's' \n",
    "        \n",
    "        print(s)    #show words\n"
   ]
  },
  {
   "cell_type": "markdown",
   "metadata": {},
   "source": [
    "______\n",
    "**Use range() to print all the even numbers from 0 to 10.**"
   ]
  },
  {
   "cell_type": "code",
   "execution_count": 23,
   "metadata": {},
   "outputs": [
    {
     "name": "stdout",
     "output_type": "stream",
     "text": [
      "0\n",
      "2\n",
      "4\n",
      "6\n",
      "8\n"
     ]
    }
   ],
   "source": [
    "x=list(range(10)) #creat list start from 0 to 10\n",
    "\n",
    "for number in x: #for loop in x\n",
    "    \n",
    "    if number %2 ==0: #cheeck each number is event or not \n",
    "        \n",
    "        print(number) #show number"
   ]
  },
  {
   "cell_type": "markdown",
   "metadata": {},
   "source": [
    "___\n",
    "**Use a List Comprehension to create a list of all numbers between 1 and 50 that are divisible by 3.**"
   ]
  },
  {
   "cell_type": "code",
   "execution_count": 96,
   "metadata": {},
   "outputs": [
    {
     "name": "stdout",
     "output_type": "stream",
     "text": [
      "3\n",
      "6\n",
      "9\n",
      "12\n",
      "15\n",
      "18\n",
      "21\n",
      "24\n",
      "27\n",
      "30\n",
      "33\n",
      "36\n",
      "39\n",
      "42\n",
      "45\n",
      "48\n"
     ]
    }
   ],
   "source": [
    "#Code Here\n",
    "x=list(range(1,50))              #creat list start from 1 to 50\n",
    "\n",
    "for number in x:                 #for loop in x\n",
    "    \n",
    "    if number % 3==0:            #cheeck each number is divisible by 3 or not\n",
    "        \n",
    "        print(number)            #show number\n",
    "    "
   ]
  },
  {
   "cell_type": "markdown",
   "metadata": {},
   "source": [
    "_____\n",
    "**Go through the string below and if the length of a word is even print \"even!\"**"
   ]
  },
  {
   "cell_type": "code",
   "execution_count": 31,
   "metadata": {},
   "outputs": [],
   "source": [
    "st = 'Print every word in this sentence that has an even number of letters'"
   ]
  },
  {
   "cell_type": "code",
   "execution_count": 33,
   "metadata": {},
   "outputs": [
    {
     "name": "stdout",
     "output_type": "stream",
     "text": [
      "even!\n"
     ]
    }
   ],
   "source": [
    "#Code in this cell\n",
    "if len(st) %2 ==0 :     # count number of element and cheeck is even or not\n",
    "    \n",
    "    print('even!')      # show message 'event!'"
   ]
  },
  {
   "cell_type": "markdown",
   "metadata": {},
   "source": [
    "____\n",
    "**Write a program that prints the integers from 1 to 100. But for multiples of three print \"Fizz\" instead of the number, and for the multiples of five print \"Buzz\". For numbers which are multiples of both three and five print \"FizzBuzz\".**"
   ]
  },
  {
   "cell_type": "code",
   "execution_count": 34,
   "metadata": {},
   "outputs": [
    {
     "name": "stdout",
     "output_type": "stream",
     "text": [
      "3 fizz\n",
      "5 Buzz\n",
      "6 fizz\n",
      "9 fizz\n",
      "10 Buzz\n",
      "12 fizz\n",
      "15 fizz\n",
      "18 fizz\n",
      "20 Buzz\n",
      "21 fizz\n",
      "24 fizz\n",
      "25 Buzz\n",
      "27 fizz\n",
      "30 fizz\n",
      "33 fizz\n",
      "35 Buzz\n",
      "36 fizz\n",
      "39 fizz\n",
      "40 Buzz\n",
      "42 fizz\n",
      "45 fizz\n",
      "48 fizz\n",
      "50 Buzz\n",
      "51 fizz\n",
      "54 fizz\n",
      "55 Buzz\n",
      "57 fizz\n",
      "60 fizz\n",
      "63 fizz\n",
      "65 Buzz\n",
      "66 fizz\n",
      "69 fizz\n",
      "70 Buzz\n",
      "72 fizz\n",
      "75 fizz\n",
      "78 fizz\n",
      "80 Buzz\n",
      "81 fizz\n",
      "84 fizz\n",
      "85 Buzz\n",
      "87 fizz\n",
      "90 fizz\n",
      "93 fizz\n",
      "95 Buzz\n",
      "96 fizz\n",
      "99 fizz\n"
     ]
    }
   ],
   "source": [
    "#Code in this cell\n",
    "x=list(range(1,100))             #creat list start from 1 to 100\n",
    "\n",
    "for number in x:                 #for loop in x\n",
    "    \n",
    "    if number % 3 == 0:          #cheeck each number is divisible by 3 or not\n",
    "        \n",
    "        print(number,'fizz')     #show message 'fizz!'and the number\n",
    "        \n",
    "    elif number % 5 == 0:        #cheeck each number is divisible by 5 or not\n",
    "        \n",
    "        print(number,'Buzz')     #show message 'Buzz!'and the number\n",
    "        \n",
    "    elif number % 5 == 0 and num % 3 == 0:       #cheeck each number is divisible by 3 and 5 or not\n",
    "        \n",
    "        print(number,'fizzBuzz')                 #show message 'fizzBuzz!'and the number"
   ]
  },
  {
   "cell_type": "markdown",
   "metadata": {},
   "source": [
    "____\n",
    "**Use List Comprehension to create a list of the first letters of every word in the string below:**"
   ]
  },
  {
   "cell_type": "code",
   "execution_count": 57,
   "metadata": {},
   "outputs": [],
   "source": [
    "st = 'Create a list of the first letters of every word in this string'"
   ]
  },
  {
   "cell_type": "code",
   "execution_count": 58,
   "metadata": {},
   "outputs": [
    {
     "name": "stdout",
     "output_type": "stream",
     "text": [
      "C\n",
      "a\n",
      "l\n",
      "o\n",
      "t\n",
      "f\n",
      "l\n",
      "o\n",
      "e\n",
      "w\n",
      "i\n",
      "t\n",
      "s\n"
     ]
    }
   ],
   "source": [
    "#Code in this cell\n",
    "st=st.split()       #spliting the st\n",
    "\n",
    "for s in st:       #for loop in st \n",
    "    print(s[0])    # show the first letters of every word \n"
   ]
  },
  {
   "cell_type": "markdown",
   "metadata": {},
   "source": [
    "### Great Job!"
   ]
  }
 ],
 "metadata": {
  "kernelspec": {
   "display_name": "Python 3 (ipykernel)",
   "language": "python",
   "name": "python3"
  },
  "language_info": {
   "codemirror_mode": {
    "name": "ipython",
    "version": 3
   },
   "file_extension": ".py",
   "mimetype": "text/x-python",
   "name": "python",
   "nbconvert_exporter": "python",
   "pygments_lexer": "ipython3",
   "version": "3.9.12"
  }
 },
 "nbformat": 4,
 "nbformat_minor": 1
}
